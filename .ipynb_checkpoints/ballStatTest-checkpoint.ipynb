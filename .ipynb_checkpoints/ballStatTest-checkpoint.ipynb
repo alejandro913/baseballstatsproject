{
 "cells": [
  {
   "cell_type": "code",
   "execution_count": 29,
   "metadata": {},
   "outputs": [],
   "source": [
    "import numpy as np \n",
    "import pandas as pd\n",
    "import matplotlib as plt\n",
    "\n",
    "batting = pd.read_csv(\"team_batting.csv\")\n",
    "pitching = pd.read_csv(\"team_pitching.csv\")\n",
    "fielding = pd.read_csv(\"team_fielding.csv\")\n",
    "\n",
    "#print(batting.head(5))\n",
    "bat = batting.groupby([\"Tm\",\"BA\",\"RBI\",\"R\", \"OBP\", \"SLG\",\"H\",\"2B\",\"3B\",\"HR\",\"BB\"]).count().reset_index()\n",
    "bat = bat.drop(columns = [\"SB\",\"CS\",\"SO\",\"OPS\",\"OPS+\",\"TB\",\"GDP\",\"HBP\",\"SH\",\"SF\",\"IBB\",\"LOB\", \"R/G\", \"G\", \"PA\",\"AB\",\"BatAge\", \"#Bat\"], axis = 1)\n",
    "\n",
    "#print(bat)\n",
    "#batslugpivot = bat.pivot(columns = \"BA\", index = \"Tm\", values = \"SLG\")\n",
    "#print(batslugpivot)\n"
   ]
  },
  {
   "cell_type": "code",
   "execution_count": null,
   "metadata": {},
   "outputs": [],
   "source": []
  }
 ],
 "metadata": {
  "kernelspec": {
   "display_name": "Python 3",
   "language": "python",
   "name": "python3"
  },
  "language_info": {
   "codemirror_mode": {
    "name": "ipython",
    "version": 3
   },
   "file_extension": ".py",
   "mimetype": "text/x-python",
   "name": "python",
   "nbconvert_exporter": "python",
   "pygments_lexer": "ipython3",
   "version": "3.6.5"
  }
 },
 "nbformat": 4,
 "nbformat_minor": 2
}
