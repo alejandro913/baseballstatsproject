{
 "cells": [
  {
   "cell_type": "code",
   "execution_count": 2,
   "metadata": {},
   "outputs": [
    {
     "name": "stdout",
     "output_type": "stream",
     "text": [
      "    Tm  #Bat  BatAge   R/G   G    PA    AB    R    H  2B ...     SLG    OPS  \\\n",
      "0  ARI    30    29.1  4.40  35  1320  1161  154  265  60 ...   0.407  0.717   \n",
      "1  ATL    39    27.9  5.35  34  1371  1219  182  329  77 ...   0.441  0.779   \n",
      "2  BAL    34    28.6  3.49  35  1329  1202  122  270  56 ...   0.370  0.662   \n",
      "3  BOS    28    27.5  5.54  35  1386  1249  194  335  87 ...   0.456  0.787   \n",
      "4  CHC    31    26.9  5.00  33  1318  1172  165  291  61 ...   0.411  0.734   \n",
      "\n",
      "   OPS+   TB  GDP  HBP  SH  SF  IBB  LOB  \n",
      "0    90  472   22    7   7   9    6  224  \n",
      "1   115  538   23   12  12  10   11  253  \n",
      "2    83  445   26   10   3   7    9  238  \n",
      "3   108  570   22   16   2  13    5  243  \n",
      "4    98  482   16   25  11   4   10  247  \n",
      "\n",
      "[5 rows x 29 columns]\n"
     ]
    }
   ],
   "source": [
    "import numpy as np \n",
    "import pandas as pd\n",
    "import matplotlib as plt\n",
    "\n",
    "batting = pd.read_csv(\"team_batting.csv\")\n",
    "pitching = pd.read_csv(\"team_pitching.csv\")\n",
    "fielding = pd.read_csv(\"team_fielding.csv\")\n",
    "\n",
    "print(batting.head(5))\n",
    "\n",
    "\n"
   ]
  },
  {
   "cell_type": "code",
   "execution_count": null,
   "metadata": {},
   "outputs": [],
   "source": []
  }
 ],
 "metadata": {
  "kernelspec": {
   "display_name": "Python 3",
   "language": "python",
   "name": "python3"
  },
  "language_info": {
   "codemirror_mode": {
    "name": "ipython",
    "version": 3
   },
   "file_extension": ".py",
   "mimetype": "text/x-python",
   "name": "python",
   "nbconvert_exporter": "python",
   "pygments_lexer": "ipython3",
   "version": "3.6.5"
  }
 },
 "nbformat": 4,
 "nbformat_minor": 2
}
